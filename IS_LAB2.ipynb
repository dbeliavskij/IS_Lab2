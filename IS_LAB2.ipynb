{
 "cells": [
  {
   "cell_type": "markdown",
   "id": "e73d28a9",
   "metadata": {},
   "source": [
    "# IS-Lab2 (LT)\n",
    "Intelektualiosios sistemos. Antrojo laboratorinio darbo užduotis.\n",
    "# Tikslas\n",
    "Išmokti savarankiškai suprogramuoti paprasto netiesinio aproksimatoriaus mokymo (parametrų skaičiavimo) algoritmą.\n",
    "# Užduotys (maks. 8 balai)\n",
    "1. Sukurkite daugiasluoksnio perceptrono koeficientams apskaičiuoti skirtą programą. Daugiasluoksnis perceptronas turi atlikti aproksimatoriaus funkciją. Daugiasluoksnio perceptrono struktūra:"
   ]
  },
  {
   "cell_type": "code",
   "execution_count": 1,
   "id": "e2d01431",
   "metadata": {},
   "outputs": [],
   "source": [
    "import numpy as np\n",
    "import matplotlib.pyplot as plt"
   ]
  },
  {
   "cell_type": "markdown",
   "id": "4d687f4c",
   "metadata": {},
   "source": [
    "- vienas įėjimas (įėjime paduodamas 20 skaičių vektorius X, su reikšmėmis intervale nuo 0 iki 1, pvz., x = 0.1:1/22:1; )."
   ]
  },
  {
   "cell_type": "code",
   "execution_count": 2,
   "id": "6a164311",
   "metadata": {},
   "outputs": [
    {
     "name": "stdout",
     "output_type": "stream",
     "text": [
      "(20,)\n"
     ]
    }
   ],
   "source": [
    "x = np.linspace(0.1, 1, 20)\n",
    "print(x.shape)"
   ]
  },
  {
   "cell_type": "markdown",
   "id": "1d289e91",
   "metadata": {},
   "source": [
    "- vienas išėjimas (pvz., išėjime tikimasi tokio norimo atsako, kurį galima būtų apskaičiuoti pagal formulę: y = (1 + 0.6\\*sin(2\\*pi\\*x/0.7)) + 0.3\\*sin(2\\*pi\\*x))/2; - kuriamas neuronų tinklas turėtų \"modeliuoti/imituoti šios formulės elgesį\" naudodamas visiškai kitokią matematinę išraišką nei ši);"
   ]
  },
  {
   "cell_type": "code",
   "execution_count": 3,
   "id": "151d6948",
   "metadata": {},
   "outputs": [
    {
     "name": "stdout",
     "output_type": "stream",
     "text": [
      "(20,)\n"
     ]
    }
   ],
   "source": [
    "y_given = (1 + 0.6 * np.sin(2 * np.pi * x / 0.7)) + 0.3 * np.sin(2 * np.pi * x) / 2\n",
    "print(y_given.shape)"
   ]
  },
  {
   "cell_type": "markdown",
   "id": "f6f469fb",
   "metadata": {},
   "source": [
    "- vienas paslėptasis sluoksnis su hiperbolinio tangento arba sigmoidinėmis aktyvavimo funkcijomis neuronuose (neuronų skaičius: 4-8);\n",
    "- tiesine aktyvavimo funkcija išėjimo neurone;\n",
    "- mokymo algoritmas - Backpropagation (atgalinio sklidimo)."
   ]
  },
  {
   "cell_type": "code",
   "execution_count": 4,
   "id": "fe812df7",
   "metadata": {},
   "outputs": [],
   "source": [
    "def sig(x):\n",
    " return 1/(1 + np.exp(-x))\n",
    "\n",
    "def sig_deriv(z):\n",
    "    return z*(1 - z)"
   ]
  },
  {
   "cell_type": "code",
   "execution_count": 12,
   "id": "0be71fdc",
   "metadata": {},
   "outputs": [],
   "source": [
    "class NeuralNet:\n",
    "    def __init__(self, x, y, dataset_size):\n",
    "        self.input      = x\n",
    "        self.weights_l1 = np.random.rand(1,5)\n",
    "        self.bias_l1    = np.random.rand(self.weights_l1.shape[1])\n",
    "        self.weights_l2 = np.random.rand(5,1)\n",
    "        self.bias_l2    = np.random.rand(self.weights_l2.shape[1])\n",
    "        self.y          = y\n",
    "        self.out        = np.zeros(y.shape)\n",
    "        self.err        = np.zeros([2, dataset_size])\n",
    "        self.err_n      = 0\n",
    "\n",
    "    def feedforward(self):\n",
    "        self.layer1 = sig(np.dot(self.input, self.weights_l1) + self.bias_l1)\n",
    "        self.out    = sig(np.dot(self.layer1, self.weights_l2) + self.bias_l2)\n",
    "        \n",
    "    def backprop(self):\n",
    "        d_weights_l2 = np.dot(self.layer1.T, (2*(self.y - self.out) * sig_deriv(self.out)))\n",
    "        d_weights_l1 = np.dot(self.input.T,  (np.dot(2*(self.y - self.out) * sig_deriv(self.out), self.weights_l2.T) * sig_deriv(self.layer1)))\n",
    "        self.weights_l1 += d_weights_l1\n",
    "        self.weights_l2 += d_weights_l2\n",
    "        self.err[0, self.err_n] = x\n",
    "        self.err[1, self.err_n] = np.absolute(self.y - self.out)\n",
    "        self.err_n += 1\n",
    "        \n",
    "    def report_error(self):\n",
    "        plt.plot(self.err[0, :],self.err[1, :])"
   ]
  },
  {
   "cell_type": "code",
   "execution_count": 13,
   "id": "34c105c2",
   "metadata": {},
   "outputs": [
    {
     "ename": "ValueError",
     "evalue": "setting an array element with a sequence.",
     "output_type": "error",
     "traceback": [
      "\u001b[1;31m---------------------------------------------------------------------------\u001b[0m",
      "\u001b[1;31mTypeError\u001b[0m                                 Traceback (most recent call last)",
      "\u001b[1;31mTypeError\u001b[0m: only size-1 arrays can be converted to Python scalars",
      "\nThe above exception was the direct cause of the following exception:\n",
      "\u001b[1;31mValueError\u001b[0m                                Traceback (most recent call last)",
      "Input \u001b[1;32mIn [13]\u001b[0m, in \u001b[0;36m<cell line: 3>\u001b[1;34m()\u001b[0m\n\u001b[0;32m      1\u001b[0m network \u001b[38;5;241m=\u001b[39m NeuralNet(x[\u001b[38;5;241m0\u001b[39m], y_given[\u001b[38;5;241m0\u001b[39m], x\u001b[38;5;241m.\u001b[39mshape[\u001b[38;5;241m0\u001b[39m])\n\u001b[0;32m      2\u001b[0m network\u001b[38;5;241m.\u001b[39mfeedforward()\n\u001b[1;32m----> 3\u001b[0m \u001b[43mnetwork\u001b[49m\u001b[38;5;241;43m.\u001b[39;49m\u001b[43mbackprop\u001b[49m\u001b[43m(\u001b[49m\u001b[43m)\u001b[49m\n",
      "Input \u001b[1;32mIn [12]\u001b[0m, in \u001b[0;36mNeuralNet.backprop\u001b[1;34m(self)\u001b[0m\n\u001b[0;32m     20\u001b[0m \u001b[38;5;28mself\u001b[39m\u001b[38;5;241m.\u001b[39mweights_l1 \u001b[38;5;241m+\u001b[39m\u001b[38;5;241m=\u001b[39m d_weights_l1\n\u001b[0;32m     21\u001b[0m \u001b[38;5;28mself\u001b[39m\u001b[38;5;241m.\u001b[39mweights_l2 \u001b[38;5;241m+\u001b[39m\u001b[38;5;241m=\u001b[39m d_weights_l2\n\u001b[1;32m---> 22\u001b[0m \u001b[38;5;28mself\u001b[39m\u001b[38;5;241m.\u001b[39merr[\u001b[38;5;241m0\u001b[39m, \u001b[38;5;28mself\u001b[39m\u001b[38;5;241m.\u001b[39merr_n] \u001b[38;5;241m=\u001b[39m x\n\u001b[0;32m     23\u001b[0m \u001b[38;5;28mself\u001b[39m\u001b[38;5;241m.\u001b[39merr[\u001b[38;5;241m1\u001b[39m, \u001b[38;5;28mself\u001b[39m\u001b[38;5;241m.\u001b[39merr_n] \u001b[38;5;241m=\u001b[39m np\u001b[38;5;241m.\u001b[39mabsolute(\u001b[38;5;28mself\u001b[39m\u001b[38;5;241m.\u001b[39my \u001b[38;5;241m-\u001b[39m \u001b[38;5;28mself\u001b[39m\u001b[38;5;241m.\u001b[39mout)\n\u001b[0;32m     24\u001b[0m \u001b[38;5;28mself\u001b[39m\u001b[38;5;241m.\u001b[39merr_n \u001b[38;5;241m+\u001b[39m\u001b[38;5;241m=\u001b[39m \u001b[38;5;241m1\u001b[39m\n",
      "\u001b[1;31mValueError\u001b[0m: setting an array element with a sequence."
     ]
    }
   ],
   "source": [
    "network = NeuralNet(x[0], y_given[0], x.shape[0])\n",
    "network.feedforward()\n",
    "network.backprop()"
   ]
  },
  {
   "cell_type": "markdown",
   "id": "564c3e22",
   "metadata": {},
   "source": [
    "# Papildoma užduotis (papildomi 2 balai)\n",
    "Išspręskite paviršiaus aproksimavimo uždavinį, kai tinklas turi du įėjimus ir vieną išėjimą.\n",
    "# Rekomenduojama literatūra\n",
    "- Neural Networks and Learning Machines (3rd Edition), <...> psl., <...> lentelė"
   ]
  },
  {
   "cell_type": "code",
   "execution_count": null,
   "id": "40a11ecb",
   "metadata": {},
   "outputs": [],
   "source": []
  }
 ],
 "metadata": {
  "kernelspec": {
   "display_name": "Python 3 (ipykernel)",
   "language": "python",
   "name": "python3"
  },
  "language_info": {
   "codemirror_mode": {
    "name": "ipython",
    "version": 3
   },
   "file_extension": ".py",
   "mimetype": "text/x-python",
   "name": "python",
   "nbconvert_exporter": "python",
   "pygments_lexer": "ipython3",
   "version": "3.9.12"
  }
 },
 "nbformat": 4,
 "nbformat_minor": 5
}
