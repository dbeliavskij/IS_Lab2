{
 "cells": [
  {
   "cell_type": "markdown",
   "id": "823d3a8a",
   "metadata": {},
   "source": [
    "# IS-Lab2 (LT)\n",
    "Intelektualiosios sistemos. Antrojo laboratorinio darbo užduotis.\n",
    "# Tikslas\n",
    "Išmokti savarankiškai suprogramuoti paprasto netiesinio aproksimatoriaus mokymo (parametrų skaičiavimo) algoritmą.\n",
    "# Užduotys (maks. 8 balai)\n",
    "1. Sukurkite daugiasluoksnio perceptrono koeficientams apskaičiuoti skirtą programą. Daugiasluoksnis perceptronas turi atlikti aproksimatoriaus funkciją. Daugiasluoksnio perceptrono struktūra:"
   ]
  },
  {
   "cell_type": "code",
   "execution_count": 8,
   "id": "6e1046b9",
   "metadata": {},
   "outputs": [],
   "source": [
    "import numpy as np"
   ]
  },
  {
   "cell_type": "markdown",
   "id": "67c85d3f",
   "metadata": {},
   "source": [
    "- vienas įėjimas (įėjime paduodamas 20 skaičių vektorius X, su reikšmėmis intervale nuo 0 iki 1, pvz., x = 0.1:1/22:1; )."
   ]
  },
  {
   "cell_type": "code",
   "execution_count": 4,
   "id": "3768c813",
   "metadata": {},
   "outputs": [
    {
     "name": "stdout",
     "output_type": "stream",
     "text": [
      "(20,)\n"
     ]
    }
   ],
   "source": [
    "x = np.linspace(0.1, 1, 20)\n",
    "print(x.shape)"
   ]
  },
  {
   "cell_type": "markdown",
   "id": "da909adb",
   "metadata": {},
   "source": [
    "- vienas išėjimas (pvz., išėjime tikimasi tokio norimo atsako, kurį galima būtų apskaičiuoti pagal formulę: y = (1 + 0.6\\*sin(2\\*pi\\*x/0.7)) + 0.3\\*sin(2\\*pi\\*x))/2; - kuriamas neuronų tinklas turėtų \"modeliuoti/imituoti šios formulės elgesį\" naudodamas visiškai kitokią matematinę išraišką nei ši);"
   ]
  },
  {
   "cell_type": "code",
   "execution_count": 11,
   "id": "2b91e7ef",
   "metadata": {},
   "outputs": [
    {
     "name": "stdout",
     "output_type": "stream",
     "text": [
      "(20,)\n"
     ]
    }
   ],
   "source": [
    "y_given = (1 + 0.6 * np.sin(2 * np.pi * x / 0.7)) + 0.3 * np.sin(2 * np.pi * x) / 2\n",
    "print(y_given.shape)"
   ]
  },
  {
   "cell_type": "markdown",
   "id": "56bb0092",
   "metadata": {},
   "source": [
    "- vienas paslėptasis sluoksnis su hiperbolinio tangento arba sigmoidinėmis aktyvavimo funkcijomis neuronuose (neuronų skaičius: 4-8);\n",
    "- tiesine aktyvavimo funkcija išėjimo neurone;\n",
    "- mokymo algoritmas - Backpropagation (atgalinio sklidimo)."
   ]
  },
  {
   "cell_type": "code",
   "execution_count": 27,
   "id": "fc638eed",
   "metadata": {},
   "outputs": [],
   "source": [
    "def sig(x):\n",
    " return 1/(1 + np.exp(-x))"
   ]
  },
  {
   "cell_type": "code",
   "execution_count": 31,
   "id": "56a98689",
   "metadata": {},
   "outputs": [],
   "source": [
    "class NeuralNet:\n",
    "    def __init__(self, x, y):\n",
    "        self.input      = x\n",
    "        self.weights_l1 = np.random.rand(1,5)\n",
    "        self.bias_l1    = np.random.rand(self.weights_l1.shape[1])\n",
    "        self.weights_l2 = np.random.rand(5,1)\n",
    "        self.bias_l2    = np.random.rand(self.weights_l2.shape[1])\n",
    "        self.y          = y\n",
    "        self.out        = np.zeros(y.shape)\n",
    "\n",
    "    def feedforward(self):\n",
    "        self.layer1 = sig(np.dot(self.input, self.weights_l1) + self.bias_l1)\n",
    "        self.out    = sig(np.dot(self.layer1, self.weights_l2) + self.bias_l2)\n",
    "        \n",
    "    def backprop(self):\n",
    "        d_weights_l2 = np.dot(self.layer1.T, (2*(self.y - self.out) * sigmoid_derivative(self.out)))\n",
    "        d_weights_11 = np.dot(self.input.T,  (np.dot(2*(self.y - self.out) * sigmoid_derivative(self.out), self.weights_l2.T) * sigmoid_derivative(self.layer1)))\n",
    "        self.weights_l1 += d_weights_l1\n",
    "        self.weights_l2 += d_weights_l2"
   ]
  },
  {
   "cell_type": "code",
   "execution_count": 34,
   "id": "16f0b507",
   "metadata": {},
   "outputs": [
    {
     "ename": "NameError",
     "evalue": "name 'sigmoid_derivative' is not defined",
     "output_type": "error",
     "traceback": [
      "\u001b[1;31m---------------------------------------------------------------------------\u001b[0m",
      "\u001b[1;31mNameError\u001b[0m                                 Traceback (most recent call last)",
      "Input \u001b[1;32mIn [34]\u001b[0m, in \u001b[0;36m<cell line: 3>\u001b[1;34m()\u001b[0m\n\u001b[0;32m      1\u001b[0m network \u001b[38;5;241m=\u001b[39m NeuralNet(x[\u001b[38;5;241m0\u001b[39m], y_given)\n\u001b[0;32m      2\u001b[0m network\u001b[38;5;241m.\u001b[39mfeedforward()\n\u001b[1;32m----> 3\u001b[0m \u001b[43mnetwork\u001b[49m\u001b[38;5;241;43m.\u001b[39;49m\u001b[43mbackprop\u001b[49m\u001b[43m(\u001b[49m\u001b[43m)\u001b[49m\n",
      "Input \u001b[1;32mIn [31]\u001b[0m, in \u001b[0;36mNeuralNet.backprop\u001b[1;34m(self)\u001b[0m\n\u001b[0;32m     15\u001b[0m \u001b[38;5;28;01mdef\u001b[39;00m \u001b[38;5;21mbackprop\u001b[39m(\u001b[38;5;28mself\u001b[39m):\n\u001b[1;32m---> 16\u001b[0m     d_weights_l2 \u001b[38;5;241m=\u001b[39m np\u001b[38;5;241m.\u001b[39mdot(\u001b[38;5;28mself\u001b[39m\u001b[38;5;241m.\u001b[39mlayer1\u001b[38;5;241m.\u001b[39mT, (\u001b[38;5;241m2\u001b[39m\u001b[38;5;241m*\u001b[39m(\u001b[38;5;28mself\u001b[39m\u001b[38;5;241m.\u001b[39my \u001b[38;5;241m-\u001b[39m \u001b[38;5;28mself\u001b[39m\u001b[38;5;241m.\u001b[39mout) \u001b[38;5;241m*\u001b[39m \u001b[43msigmoid_derivative\u001b[49m(\u001b[38;5;28mself\u001b[39m\u001b[38;5;241m.\u001b[39mout)))\n\u001b[0;32m     17\u001b[0m     d_weights_11 \u001b[38;5;241m=\u001b[39m np\u001b[38;5;241m.\u001b[39mdot(\u001b[38;5;28mself\u001b[39m\u001b[38;5;241m.\u001b[39minput\u001b[38;5;241m.\u001b[39mT,  (np\u001b[38;5;241m.\u001b[39mdot(\u001b[38;5;241m2\u001b[39m\u001b[38;5;241m*\u001b[39m(\u001b[38;5;28mself\u001b[39m\u001b[38;5;241m.\u001b[39my \u001b[38;5;241m-\u001b[39m \u001b[38;5;28mself\u001b[39m\u001b[38;5;241m.\u001b[39mout) \u001b[38;5;241m*\u001b[39m sigmoid_derivative(\u001b[38;5;28mself\u001b[39m\u001b[38;5;241m.\u001b[39mout), \u001b[38;5;28mself\u001b[39m\u001b[38;5;241m.\u001b[39mweights_l2\u001b[38;5;241m.\u001b[39mT) \u001b[38;5;241m*\u001b[39m sigmoid_derivative(\u001b[38;5;28mself\u001b[39m\u001b[38;5;241m.\u001b[39mlayer1)))\n\u001b[0;32m     18\u001b[0m     \u001b[38;5;28mself\u001b[39m\u001b[38;5;241m.\u001b[39mweights_l1 \u001b[38;5;241m+\u001b[39m\u001b[38;5;241m=\u001b[39m d_weights_l1\n",
      "\u001b[1;31mNameError\u001b[0m: name 'sigmoid_derivative' is not defined"
     ]
    }
   ],
   "source": [
    "network = NeuralNet(x[0], y_given)\n",
    "network.feedforward()\n",
    "network.backprop()"
   ]
  },
  {
   "cell_type": "markdown",
   "id": "6020d4b4",
   "metadata": {},
   "source": [
    "# Papildoma užduotis (papildomi 2 balai)\n",
    "Išspręskite paviršiaus aproksimavimo uždavinį, kai tinklas turi du įėjimus ir vieną išėjimą.\n",
    "# Rekomenduojama literatūra\n",
    "- Neural Networks and Learning Machines (3rd Edition), <...> psl., <...> lentelė"
   ]
  },
  {
   "cell_type": "code",
   "execution_count": null,
   "id": "4c7da3f2",
   "metadata": {},
   "outputs": [],
   "source": []
  }
 ],
 "metadata": {
  "kernelspec": {
   "display_name": "Python 3 (ipykernel)",
   "language": "python",
   "name": "python3"
  },
  "language_info": {
   "codemirror_mode": {
    "name": "ipython",
    "version": 3
   },
   "file_extension": ".py",
   "mimetype": "text/x-python",
   "name": "python",
   "nbconvert_exporter": "python",
   "pygments_lexer": "ipython3",
   "version": "3.9.12"
  }
 },
 "nbformat": 4,
 "nbformat_minor": 5
}
