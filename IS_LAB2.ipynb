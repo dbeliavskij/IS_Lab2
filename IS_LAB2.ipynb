{
 "cells": [
  {
   "cell_type": "markdown",
   "id": "52271b07",
   "metadata": {},
   "source": [
    "# IS-Lab2 (LT)\n",
    "Intelektualiosios sistemos. Antrojo laboratorinio darbo užduotis.\n",
    "# Tikslas\n",
    "Išmokti savarankiškai suprogramuoti paprasto netiesinio aproksimatoriaus mokymo (parametrų skaičiavimo) algoritmą.\n",
    "# Užduotys (maks. 8 balai)\n",
    "1. Sukurkite daugiasluoksnio perceptrono koeficientams apskaičiuoti skirtą programą. Daugiasluoksnis perceptronas turi atlikti aproksimatoriaus funkciją. Daugiasluoksnio perceptrono struktūra:"
   ]
  },
  {
   "cell_type": "code",
   "execution_count": 8,
   "id": "b7fddb8f",
   "metadata": {},
   "outputs": [],
   "source": [
    "import numpy as np"
   ]
  },
  {
   "cell_type": "markdown",
   "id": "6fbc9902",
   "metadata": {},
   "source": [
    "- vienas įėjimas (įėjime paduodamas 20 skaičių vektorius X, su reikšmėmis intervale nuo 0 iki 1, pvz., x = 0.1:1/22:1; )."
   ]
  },
  {
   "cell_type": "code",
   "execution_count": 4,
   "id": "a047fa11",
   "metadata": {},
   "outputs": [
    {
     "name": "stdout",
     "output_type": "stream",
     "text": [
      "(20,)\n"
     ]
    }
   ],
   "source": [
    "x = np.linspace(0.1, 1, 20)\n",
    "print(x.shape)"
   ]
  },
  {
   "cell_type": "markdown",
   "id": "0c72dc83",
   "metadata": {},
   "source": [
    "- vienas išėjimas (pvz., išėjime tikimasi tokio norimo atsako, kurį galima būtų apskaičiuoti pagal formulę: y = (1 + 0.6\\*sin(2\\*pi\\*x/0.7)) + 0.3\\*sin(2\\*pi\\*x))/2; - kuriamas neuronų tinklas turėtų \"modeliuoti/imituoti šios formulės elgesį\" naudodamas visiškai kitokią matematinę išraišką nei ši);"
   ]
  },
  {
   "cell_type": "code",
   "execution_count": 11,
   "id": "e02e4d78",
   "metadata": {},
   "outputs": [
    {
     "name": "stdout",
     "output_type": "stream",
     "text": [
      "(20,)\n"
     ]
    }
   ],
   "source": [
    "y_given = (1 + 0.6 * np.sin(2 * np.pi * x / 0.7)) + 0.3 * np.sin(2 * np.pi * x) / 2\n",
    "print(y_given.shape)"
   ]
  },
  {
   "cell_type": "markdown",
   "id": "17f91c09",
   "metadata": {},
   "source": [
    "- vienas paslėptasis sluoksnis su hiperbolinio tangento arba sigmoidinėmis aktyvavimo funkcijomis neuronuose (neuronų skaičius: 4-8);\n",
    "- tiesine aktyvavimo funkcija išėjimo neurone;\n",
    "- mokymo algoritmas - Backpropagation (atgalinio sklidimo)."
   ]
  },
  {
   "cell_type": "code",
   "execution_count": 18,
   "id": "0c7c9505",
   "metadata": {},
   "outputs": [],
   "source": [
    "class NeuralNet:\n",
    "    def __init__(self, x, y):\n",
    "        self.input      = x\n",
    "        self.weights_l1 = np.random.rand(self.input.shape[1],5)\n",
    "        self.bias_l1    = np.random.rand(self.weights_l1.shape[1])\n",
    "        self.weights_l2 = np.random.rand(5,1)\n",
    "        self.bias_l2    = np.random.rand(self.weights_l2.shape[1])\n",
    "        self.y          = y\n",
    "        self.out        = np.zeros(y.shape)\n",
    "\n",
    "    def feedforward(self):\n",
    "        self.layer1 = sigmoid(np.dot(self.input, self.weights_l1) + self.bias_l1)\n",
    "        self.out    = sigmoid(np.dot(self.layer1, self.weights_l2) + self.bias_l2)\n",
    "        \n",
    "    def backprop(self):\n",
    "        d_weights_l2 = np.dot(self.layer1.T, (2*(self.y - self.out) * sigmoid_derivative(self.out)))\n",
    "        d_weights_11 = np.dot(self.input.T,  (np.dot(2*(self.y - self.out) * sigmoid_derivative(self.out), self.weights_l2.T) * sigmoid_derivative(self.layer1)))\n",
    "        self.weights_l1 += d_weights_l1\n",
    "        self.weights_l2 += d_weights_l2"
   ]
  },
  {
   "cell_type": "markdown",
   "id": "844e14b5",
   "metadata": {},
   "source": [
    "# Papildoma užduotis (papildomi 2 balai)\n",
    "Išspręskite paviršiaus aproksimavimo uždavinį, kai tinklas turi du įėjimus ir vieną išėjimą.\n",
    "# Rekomenduojama literatūra\n",
    "- Neural Networks and Learning Machines (3rd Edition), <...> psl., <...> lentelė"
   ]
  },
  {
   "cell_type": "code",
   "execution_count": null,
   "id": "20714d73",
   "metadata": {},
   "outputs": [],
   "source": []
  }
 ],
 "metadata": {
  "kernelspec": {
   "display_name": "Python 3 (ipykernel)",
   "language": "python",
   "name": "python3"
  },
  "language_info": {
   "codemirror_mode": {
    "name": "ipython",
    "version": 3
   },
   "file_extension": ".py",
   "mimetype": "text/x-python",
   "name": "python",
   "nbconvert_exporter": "python",
   "pygments_lexer": "ipython3",
   "version": "3.9.12"
  }
 },
 "nbformat": 4,
 "nbformat_minor": 5
}
